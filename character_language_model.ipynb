{
 "cells": [
  {
   "cell_type": "code",
   "execution_count": 1,
   "metadata": {},
   "outputs": [],
   "source": [
    "import torch\n",
    "import torch.nn.functional as F"
   ]
  },
  {
   "cell_type": "code",
   "execution_count": 2,
   "metadata": {},
   "outputs": [],
   "source": [
    "raw_names = open(\"./names.txt\").read()\n",
    "names = raw_names.split('\\n')"
   ]
  },
  {
   "cell_type": "code",
   "execution_count": 3,
   "metadata": {},
   "outputs": [
    {
     "data": {
      "text/plain": [
       "(torch.float32, torch.float32)"
      ]
     },
     "execution_count": 3,
     "metadata": {},
     "output_type": "execute_result"
    }
   ],
   "source": [
    "X = []\n",
    "Y = []\n",
    "block_size = 3\n",
    "\n",
    "letters_n = {v:i+1 for i,v in enumerate(sorted(list(set(raw_names.replace('\\n','')))))}\n",
    "letters_n['.'] = 0\n",
    "n_letters = {v:i for i,v in letters_n.items()}\n",
    "\n",
    "for name in names:\n",
    "    context = [0] * block_size\n",
    "    for char in name:\n",
    "        n_char = letters_n[char]\n",
    "        X.append(context)\n",
    "        Y.append(n_char)\n",
    "        \n",
    "        context = context[1:] + [n_char]\n",
    "\n",
    "X = torch.Tensor(X)\n",
    "Y = torch.Tensor(Y)\n",
    "\n",
    "idx1 = int(0.8*len(X))\n",
    "idx2 = int(0.9*len(X))\n",
    "\n",
    "Xtr = X[:idx1]\n",
    "Ytr = Y[:idx1]\n",
    "Xvl = X[idx1:idx2]\n",
    "Yvl = Y[idx1:idx2]\n",
    "Xts = X[idx2:]\n",
    "Yts = Y[idx2:]\n",
    "\n",
    "X.dtype, Y.dtype"
   ]
  },
  {
   "cell_type": "code",
   "execution_count": 4,
   "metadata": {},
   "outputs": [
    {
     "data": {
      "text/plain": [
       "(torch.Size([157192, 3]),\n",
       " torch.Size([157192]),\n",
       " torch.Size([19649, 3]),\n",
       " torch.Size([19649]),\n",
       " torch.Size([19649, 3]),\n",
       " torch.Size([19649]))"
      ]
     },
     "execution_count": 4,
     "metadata": {},
     "output_type": "execute_result"
    }
   ],
   "source": [
    "Xtr.shape,Ytr.shape,Xvl.shape,Yvl.shape,Xts.shape,Yts.shape"
   ]
  },
  {
   "cell_type": "code",
   "execution_count": 5,
   "metadata": {},
   "outputs": [],
   "source": [
    "gen = torch.Generator().manual_seed(2147483647)\n",
    "C = torch.randn((27,10),requires_grad=True, generator=gen)\n",
    "W1 = torch.randn((30, 200), requires_grad=True, generator=gen)\n",
    "b1 = torch.randn(200, requires_grad=True, generator=gen)\n",
    "W2 = torch.randn((200, 100), requires_grad=True, generator=gen)\n",
    "b2 = torch.randn(100, requires_grad=True, generator=gen)\n",
    "W3 = torch.randn((100, 27), requires_grad=True, generator=gen)\n",
    "b3 = torch.randn(27, requires_grad=True, generator=gen)\n",
    "parameters = [C, W1, b1, W2, b2, W3, b3]\n",
    "epsilon = 0.01"
   ]
  },
  {
   "cell_type": "code",
   "execution_count": 8,
   "metadata": {},
   "outputs": [
    {
     "name": "stdout",
     "output_type": "stream",
     "text": [
      "3.0217795372009277\n"
     ]
    }
   ],
   "source": [
    "for __ in range(10000):\n",
    "\n",
    "    mini_batch = torch.randint(0, Xtr.shape[0], (128,))\n",
    "\n",
    "    embeddings = C[Xtr[mini_batch].type(dtype=torch.int64)]\n",
    "    hypothesis = torch.tanh(embeddings.view(-1,30) @ W1 + b1)                                                # First Hidden Layer \n",
    "    hypothesis = torch.tanh(hypothesis @ W2 + b2)                                                    # Second Hidden Layer \n",
    "    logits = hypothesis @ W3 + b3                                                                           # Logits\n",
    "    # counts = logits.exp()                                                                                   # Output Layer\n",
    "    # prob = counts / counts.sum(1, keepdim=True)                                                             # Softmax\n",
    "    # loss = -prob[torch.arange(embeddings.shape[0]).type(torch.int64), Y.type(torch.int64)].log().mean()     # Loss\n",
    "    loss = F.cross_entropy(logits, Ytr[mini_batch].type(torch.int64))   \n",
    "    for p in parameters:\n",
    "        p.grad = None\n",
    "    loss.backward()\n",
    "    for p in parameters:\n",
    "        p.data -= 0.01 * p.grad.type(torch.float32)\n",
    "\n",
    "print(loss.item())"
   ]
  },
  {
   "cell_type": "code",
   "execution_count": 9,
   "metadata": {},
   "outputs": [
    {
     "name": "stdout",
     "output_type": "stream",
     "text": [
      "tensor(3.8073, grad_fn=<NllLossBackward0>)\n"
     ]
    }
   ],
   "source": [
    "embeddings = C[Xvl.type(dtype=torch.int64)]\n",
    "hypothesis = torch.tanh(embeddings.view(-1,30) @ W1 + b1)                                                # First Hidden Layer \n",
    "hypothesis = torch.tanh(hypothesis @ W2 + b2)                                   \n",
    "logits = hypothesis @ W3 + b3                                                                      \n",
    "loss = F.cross_entropy(logits, Yvl.type(torch.int64))   \n",
    "print(loss)"
   ]
  },
  {
   "cell_type": "code",
   "execution_count": null,
   "metadata": {},
   "outputs": [],
   "source": []
  }
 ],
 "metadata": {
  "kernelspec": {
   "display_name": "Python 3",
   "language": "python",
   "name": "python3"
  },
  "language_info": {
   "codemirror_mode": {
    "name": "ipython",
    "version": 3
   },
   "file_extension": ".py",
   "mimetype": "text/x-python",
   "name": "python",
   "nbconvert_exporter": "python",
   "pygments_lexer": "ipython3",
   "version": "3.10.5"
  },
  "orig_nbformat": 4,
  "vscode": {
   "interpreter": {
    "hash": "f8616a3e2b8148b9c6607ab9a56f475d4fd35cc22643bd7652a96017134ab550"
   }
  }
 },
 "nbformat": 4,
 "nbformat_minor": 2
}
