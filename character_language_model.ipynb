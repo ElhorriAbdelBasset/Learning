{
 "cells": [
  {
   "cell_type": "code",
   "execution_count": 1,
   "metadata": {},
   "outputs": [],
   "source": [
    "import torch\n",
    "from utils import MLP"
   ]
  },
  {
   "cell_type": "code",
   "execution_count": 2,
   "metadata": {},
   "outputs": [],
   "source": [
    "raw_names = open(\"./names.txt\").read()\n",
    "names = raw_names.split('\\n')"
   ]
  },
  {
   "cell_type": "code",
   "execution_count": 3,
   "metadata": {},
   "outputs": [
    {
     "data": {
      "text/plain": [
       "(torch.float32, torch.float32)"
      ]
     },
     "execution_count": 3,
     "metadata": {},
     "output_type": "execute_result"
    }
   ],
   "source": [
    "X = []\n",
    "Y = []\n",
    "block_size = 3\n",
    "\n",
    "letters_n = {v:i+1 for i,v in enumerate(sorted(list(set(raw_names.replace('\\n','')))))}\n",
    "letters_n['.'] = 0\n",
    "n_letters = {v:i for i,v in letters_n.items()}\n",
    "\n",
    "for name in names:\n",
    "    context = [0] * block_size\n",
    "    for char in name:\n",
    "        n_char = letters_n[char]\n",
    "        X.append(context)\n",
    "        Y.append(n_char)\n",
    "        \n",
    "        context = context[1:] + [n_char]\n",
    "\n",
    "X = torch.Tensor(X)\n",
    "Y = torch.Tensor(Y)\n",
    "\n",
    "X.dtype, Y.dtype"
   ]
  },
  {
   "cell_type": "code",
   "execution_count": 4,
   "metadata": {},
   "outputs": [
    {
     "data": {
      "text/plain": [
       "torch.float32"
      ]
     },
     "execution_count": 4,
     "metadata": {},
     "output_type": "execute_result"
    }
   ],
   "source": [
    "C = torch.randn((27,3))\n",
    "C.dtype"
   ]
  },
  {
   "cell_type": "code",
   "execution_count": 5,
   "metadata": {},
   "outputs": [],
   "source": [
    "embeddings = C[X.type(dtype=torch.int64)]"
   ]
  },
  {
   "cell_type": "code",
   "execution_count": 6,
   "metadata": {},
   "outputs": [
    {
     "data": {
      "text/plain": [
       "(tensor([[ 1.0253,  0.6084, -0.0179],\n",
       "         [ 1.0253,  0.6084, -0.0179],\n",
       "         [-1.5227, -0.6673,  0.2682]]),\n",
       " torch.Size([196490, 3, 3]))"
      ]
     },
     "execution_count": 6,
     "metadata": {},
     "output_type": "execute_result"
    }
   ],
   "source": [
    "embeddings[1,:,:], embeddings.shape"
   ]
  },
  {
   "cell_type": "code",
   "execution_count": 7,
   "metadata": {},
   "outputs": [],
   "source": [
    "W1 = torch.randn((9, 100))\n",
    "b1 = torch.randn(100)"
   ]
  },
  {
   "cell_type": "code",
   "execution_count": 8,
   "metadata": {},
   "outputs": [
    {
     "data": {
      "text/plain": [
       "(tensor([ 1.0253,  0.6084, -0.0179,  1.0253,  0.6084, -0.0179, -1.5227, -0.6673,\n",
       "          0.2682]),\n",
       " torch.Size([196490, 9]))"
      ]
     },
     "execution_count": 8,
     "metadata": {},
     "output_type": "execute_result"
    }
   ],
   "source": [
    "embeddings.view(-1,9)[1], embeddings.view(-1, 9).shape"
   ]
  },
  {
   "cell_type": "code",
   "execution_count": 9,
   "metadata": {},
   "outputs": [],
   "source": [
    "hypothesis = (embeddings.view(-1,9) @ W1 + b1).relu()"
   ]
  },
  {
   "cell_type": "code",
   "execution_count": 10,
   "metadata": {},
   "outputs": [
    {
     "data": {
      "text/plain": [
       "tensor([[0.0000, 0.0000, 0.0000,  ..., 3.4565, 0.0000, 0.0000],\n",
       "        [0.0000, 0.0000, 0.0000,  ..., 2.2855, 0.0000, 0.0000],\n",
       "        [4.7100, 0.0000, 0.0000,  ..., 0.0000, 2.7183, 0.3967],\n",
       "        ...,\n",
       "        [3.8638, 0.0000, 0.0000,  ..., 0.0000, 0.0000, 0.3029],\n",
       "        [4.0175, 0.5541, 0.0000,  ..., 1.6632, 1.2080, 3.2167],\n",
       "        [2.8860, 0.0000, 0.0000,  ..., 1.3694, 0.0000, 0.0000]])"
      ]
     },
     "execution_count": 10,
     "metadata": {},
     "output_type": "execute_result"
    }
   ],
   "source": [
    "hypothesis"
   ]
  },
  {
   "cell_type": "code",
   "execution_count": 11,
   "metadata": {},
   "outputs": [
    {
     "data": {
      "text/plain": [
       "torch.Size([196490, 100])"
      ]
     },
     "execution_count": 11,
     "metadata": {},
     "output_type": "execute_result"
    }
   ],
   "source": [
    "hypothesis.shape"
   ]
  },
  {
   "cell_type": "code",
   "execution_count": 12,
   "metadata": {},
   "outputs": [],
   "source": [
    "W2 = torch.randn((100, 27))\n",
    "b2 = torch.randn(27)"
   ]
  },
  {
   "cell_type": "code",
   "execution_count": 13,
   "metadata": {},
   "outputs": [
    {
     "data": {
      "text/plain": [
       "torch.Size([196490, 27])"
      ]
     },
     "execution_count": 13,
     "metadata": {},
     "output_type": "execute_result"
    }
   ],
   "source": [
    "logits = hypothesis @ W2 + b2\n",
    "counts = logits.exp()\n",
    "counts.shape"
   ]
  },
  {
   "cell_type": "code",
   "execution_count": 14,
   "metadata": {},
   "outputs": [
    {
     "data": {
      "text/plain": [
       "tensor(1.0000)"
      ]
     },
     "execution_count": 14,
     "metadata": {},
     "output_type": "execute_result"
    }
   ],
   "source": [
    "prob = counts / counts.sum(1, keepdim=True)\n",
    "prob[0].sum()"
   ]
  },
  {
   "cell_type": "code",
   "execution_count": 15,
   "metadata": {},
   "outputs": [],
   "source": [
    "model = MLP(9, [100, 27])"
   ]
  },
  {
   "cell_type": "code",
   "execution_count": 23,
   "metadata": {},
   "outputs": [
    {
     "data": {
      "text/plain": [
       "[tensor([9.9156], grad_fn=<ReluBackward0>),\n",
       " tensor([0.], grad_fn=<ReluBackward0>),\n",
       " tensor([0.], grad_fn=<ReluBackward0>),\n",
       " tensor([13.9064], grad_fn=<ReluBackward0>),\n",
       " tensor([0.], grad_fn=<ReluBackward0>),\n",
       " tensor([15.2431], grad_fn=<ReluBackward0>),\n",
       " tensor([0.], grad_fn=<ReluBackward0>),\n",
       " tensor([4.3940], grad_fn=<ReluBackward0>),\n",
       " tensor([18.5980], grad_fn=<ReluBackward0>),\n",
       " tensor([0.], grad_fn=<ReluBackward0>),\n",
       " tensor([28.8150], grad_fn=<ReluBackward0>),\n",
       " tensor([8.6418], grad_fn=<ReluBackward0>),\n",
       " tensor([0.], grad_fn=<ReluBackward0>),\n",
       " tensor([0.], grad_fn=<ReluBackward0>),\n",
       " tensor([3.8244], grad_fn=<ReluBackward0>),\n",
       " tensor([0.], grad_fn=<ReluBackward0>),\n",
       " tensor([1.3330], grad_fn=<ReluBackward0>),\n",
       " tensor([5.9164], grad_fn=<ReluBackward0>),\n",
       " tensor([11.5193], grad_fn=<ReluBackward0>),\n",
       " tensor([0.], grad_fn=<ReluBackward0>),\n",
       " tensor([15.6921], grad_fn=<ReluBackward0>),\n",
       " tensor([0.], grad_fn=<ReluBackward0>),\n",
       " tensor([0.], grad_fn=<ReluBackward0>),\n",
       " tensor([6.0311], grad_fn=<ReluBackward0>),\n",
       " tensor([0.], grad_fn=<ReluBackward0>),\n",
       " tensor([0.], grad_fn=<ReluBackward0>),\n",
       " tensor([0.], grad_fn=<ReluBackward0>)]"
      ]
     },
     "execution_count": 23,
     "metadata": {},
     "output_type": "execute_result"
    }
   ],
   "source": [
    "model(embeddings.view(-1,9)[0])"
   ]
  },
  {
   "cell_type": "code",
   "execution_count": null,
   "metadata": {},
   "outputs": [],
   "source": []
  }
 ],
 "metadata": {
  "kernelspec": {
   "display_name": "Python 3",
   "language": "python",
   "name": "python3"
  },
  "language_info": {
   "codemirror_mode": {
    "name": "ipython",
    "version": 3
   },
   "file_extension": ".py",
   "mimetype": "text/x-python",
   "name": "python",
   "nbconvert_exporter": "python",
   "pygments_lexer": "ipython3",
   "version": "3.10.5"
  },
  "orig_nbformat": 4,
  "vscode": {
   "interpreter": {
    "hash": "f8616a3e2b8148b9c6607ab9a56f475d4fd35cc22643bd7652a96017134ab550"
   }
  }
 },
 "nbformat": 4,
 "nbformat_minor": 2
}
