{
 "cells": [
  {
   "cell_type": "code",
   "execution_count": 1,
   "metadata": {},
   "outputs": [],
   "source": [
    "import torch\n",
    "from utils import MLP"
   ]
  },
  {
   "cell_type": "code",
   "execution_count": 2,
   "metadata": {},
   "outputs": [],
   "source": [
    "raw_names = open(\"./names.txt\").read()\n",
    "names = raw_names.split('\\n')"
   ]
  },
  {
   "cell_type": "code",
   "execution_count": 3,
   "metadata": {},
   "outputs": [
    {
     "data": {
      "text/plain": [
       "(torch.float32, torch.float32)"
      ]
     },
     "execution_count": 3,
     "metadata": {},
     "output_type": "execute_result"
    }
   ],
   "source": [
    "X = []\n",
    "Y = []\n",
    "block_size = 3\n",
    "\n",
    "letters_n = {v:i+1 for i,v in enumerate(sorted(list(set(raw_names.replace('\\n','')))))}\n",
    "letters_n['.'] = 0\n",
    "n_letters = {v:i for i,v in letters_n.items()}\n",
    "\n",
    "for name in names:\n",
    "    context = [0] * block_size\n",
    "    for char in name:\n",
    "        n_char = letters_n[char]\n",
    "        X.append(context)\n",
    "        Y.append(n_char)\n",
    "        \n",
    "        context = context[1:] + [n_char]\n",
    "\n",
    "X = torch.Tensor(X)\n",
    "Y = torch.Tensor(Y)\n",
    "\n",
    "X.dtype, Y.dtype"
   ]
  },
  {
   "cell_type": "code",
   "execution_count": 64,
   "metadata": {},
   "outputs": [],
   "source": [
    "gen = torch.Generator().manual_seed(2147483647)\n",
    "C = torch.randn((27,3), generator=gen)\n",
    "embeddings = C[X.type(dtype=torch.int64)]\n",
    "W1 = torch.randn((9, 100), generator=gen)\n",
    "b1 = torch.randn(100, generator=gen)\n",
    "W2 = torch.randn((100, 27), generator=gen)\n",
    "b2 = torch.randn(27, generator=gen)\n",
    "epsilon = 0.01"
   ]
  },
  {
   "cell_type": "code",
   "execution_count": 73,
   "metadata": {},
   "outputs": [],
   "source": [
    "hypothesis = torch.tanh(embeddings.view(-1,9) @ W1 + b1)                                                # First Hidden Layer \n",
    "logits = hypothesis @ W2 + b2                                                                           # Logits\n",
    "counts = logits.exp()                                                                                   # Output Layer\n",
    "prob = counts / counts.sum(1, keepdim=True)                                                             # Softmax\n",
    "loss = -prob[torch.arange(embeddings.shape[0]).type(torch.int64), Y.type(torch.int64)].log().mean()     # Loss"
   ]
  },
  {
   "cell_type": "code",
   "execution_count": 76,
   "metadata": {},
   "outputs": [],
   "source": []
  },
  {
   "cell_type": "code",
   "execution_count": null,
   "metadata": {},
   "outputs": [],
   "source": []
  }
 ],
 "metadata": {
  "kernelspec": {
   "display_name": "Python 3",
   "language": "python",
   "name": "python3"
  },
  "language_info": {
   "codemirror_mode": {
    "name": "ipython",
    "version": 3
   },
   "file_extension": ".py",
   "mimetype": "text/x-python",
   "name": "python",
   "nbconvert_exporter": "python",
   "pygments_lexer": "ipython3",
   "version": "3.10.5"
  },
  "orig_nbformat": 4,
  "vscode": {
   "interpreter": {
    "hash": "f8616a3e2b8148b9c6607ab9a56f475d4fd35cc22643bd7652a96017134ab550"
   }
  }
 },
 "nbformat": 4,
 "nbformat_minor": 2
}
