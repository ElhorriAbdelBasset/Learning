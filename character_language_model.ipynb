{
 "cells": [
  {
   "cell_type": "code",
   "execution_count": 1,
   "metadata": {},
   "outputs": [],
   "source": [
    "import torch\n",
    "import torch.nn.functional as F"
   ]
  },
  {
   "cell_type": "code",
   "execution_count": 2,
   "metadata": {},
   "outputs": [],
   "source": [
    "raw_names = open(\"./names.txt\").read()\n",
    "names = raw_names.split('\\n')"
   ]
  },
  {
   "cell_type": "code",
   "execution_count": 3,
   "metadata": {},
   "outputs": [
    {
     "data": {
      "text/plain": [
       "(torch.float32, torch.float32)"
      ]
     },
     "execution_count": 3,
     "metadata": {},
     "output_type": "execute_result"
    }
   ],
   "source": [
    "X = []\n",
    "Y = []\n",
    "block_size = 3\n",
    "\n",
    "letters_n = {v:i+1 for i,v in enumerate(sorted(list(set(raw_names.replace('\\n','')))))}\n",
    "letters_n['.'] = 0\n",
    "n_letters = {v:i for i,v in letters_n.items()}\n",
    "\n",
    "for name in names:\n",
    "    context = [0] * block_size\n",
    "    for char in name:\n",
    "        n_char = letters_n[char]\n",
    "        X.append(context)\n",
    "        Y.append(n_char)\n",
    "        \n",
    "        context = context[1:] + [n_char]\n",
    "\n",
    "X = torch.Tensor(X)\n",
    "Y = torch.Tensor(Y)\n",
    "\n",
    "idx1 = int(0.8*len(X))\n",
    "idx2 = int(0.9*len(X))\n",
    "\n",
    "Xtr = X[:idx1]\n",
    "Ytr = Y[:idx1]\n",
    "Xvl = X[idx1:idx2]\n",
    "Yvl = Y[idx1:idx2]\n",
    "Xts = X[idx2:]\n",
    "Yts = Y[idx2:]\n",
    "\n",
    "X.dtype, Y.dtype"
   ]
  },
  {
   "cell_type": "code",
   "execution_count": 4,
   "metadata": {},
   "outputs": [
    {
     "data": {
      "text/plain": [
       "(torch.Size([157192, 3]),\n",
       " torch.Size([157192]),\n",
       " torch.Size([19649, 3]),\n",
       " torch.Size([19649]),\n",
       " torch.Size([19649, 3]),\n",
       " torch.Size([19649]))"
      ]
     },
     "execution_count": 4,
     "metadata": {},
     "output_type": "execute_result"
    }
   ],
   "source": [
    "Xtr.shape,Ytr.shape,Xvl.shape,Yvl.shape,Xts.shape,Yts.shape"
   ]
  },
  {
   "cell_type": "code",
   "execution_count": 5,
   "metadata": {},
   "outputs": [],
   "source": [
    "gen = torch.Generator().manual_seed(2147483647)\n",
    "C = torch.randn((27,10),requires_grad=True, generator=gen)\n",
    "W1 = torch.randn((30, 200), requires_grad=True, generator=gen)\n",
    "b1 = torch.randn(200, requires_grad=True, generator=gen)\n",
    "W2 = torch.randn((200, 100), requires_grad=True, generator=gen)\n",
    "b2 = torch.randn(100, requires_grad=True, generator=gen)\n",
    "W3 = torch.randn((100, 27), requires_grad=True, generator=gen)\n",
    "b3 = torch.randn(27, requires_grad=True, generator=gen)\n",
    "parameters = [C, W1, b1, W2, b2, W3, b3]\n",
    "epsilon = 0.01"
   ]
  },
  {
   "cell_type": "code",
   "execution_count": 6,
   "metadata": {},
   "outputs": [
    {
     "name": "stdout",
     "output_type": "stream",
     "text": [
      "3.975724935531616\n"
     ]
    }
   ],
   "source": [
    "for __ in range(10000):\n",
    "\n",
    "    mini_batch = torch.randint(0, Xtr.shape[0], (128,))\n",
    "\n",
    "    embeddings = C[Xtr[mini_batch].type(dtype=torch.int64)]\n",
    "    hypothesis = torch.tanh(embeddings.view(-1,30) @ W1 + b1)                                                # First Hidden Layer \n",
    "    hypothesis = torch.tanh(hypothesis @ W2 + b2)                                                    # Second Hidden Layer \n",
    "    logits = hypothesis @ W3 + b3                                                                           # Logits\n",
    "    # counts = logits.exp()                                                                                   # Output Layer\n",
    "    # prob = counts / counts.sum(1, keepdim=True)                                                             # Softmax\n",
    "    # loss = -prob[torch.arange(embeddings.shape[0]).type(torch.int64), Y.type(torch.int64)].log().mean()     # Loss\n",
    "    loss = F.cross_entropy(logits, Ytr[mini_batch].type(torch.int64))   \n",
    "    for p in parameters:\n",
    "        p.grad = None\n",
    "    loss.backward()\n",
    "    for p in parameters:\n",
    "        p.data -= 0.01 * p.grad.type(torch.float32)\n",
    "\n",
    "print(loss.item())"
   ]
  },
  {
   "cell_type": "code",
   "execution_count": 7,
   "metadata": {},
   "outputs": [
    {
     "name": "stdout",
     "output_type": "stream",
     "text": [
      "tensor(4.5347, grad_fn=<NllLossBackward0>)\n"
     ]
    }
   ],
   "source": [
    "embeddings = C[Xvl.type(dtype=torch.int64)]\n",
    "hypothesis = torch.tanh(embeddings.view(-1,30) @ W1 + b1)                                                # First Hidden Layer \n",
    "hypothesis = torch.tanh(hypothesis @ W2 + b2)                                   \n",
    "logits = hypothesis @ W3 + b3                                                                      \n",
    "loss = F.cross_entropy(logits, Yvl.type(torch.int64))   \n",
    "print(loss)"
   ]
  },
  {
   "cell_type": "code",
   "execution_count": 8,
   "metadata": {},
   "outputs": [
    {
     "data": {
      "text/plain": [
       "tensor([[ 1.6250, -0.3055,  0.1146, -1.2928,  0.3351, -0.1023, -1.6223,  0.6491,\n",
       "          0.0079,  0.9782],\n",
       "        [-0.6107,  0.8769, -0.1614, -0.6589,  1.5111,  3.1819,  1.6182, -1.6964,\n",
       "          0.8306, -1.0097],\n",
       "        [ 1.2450, -0.1344, -1.4076,  0.4298, -0.0413,  2.5197,  2.7214, -0.5226,\n",
       "         -1.2087,  0.2822],\n",
       "        [-1.0444,  0.6657, -0.0829,  1.0715, -0.9042, -0.8043, -1.8547,  1.3889,\n",
       "         -1.0808,  1.3453],\n",
       "        [-0.9298, -0.2919, -0.4072,  0.2365, -1.0983,  1.1543,  0.6226,  0.4737,\n",
       "          0.1372, -1.5975],\n",
       "        [ 0.3030,  0.7680,  0.4961, -1.3511,  0.0957, -1.1171,  0.4569,  0.4894,\n",
       "         -1.1740, -0.6337],\n",
       "        [ 0.1188, -0.1041, -1.0650, -1.4020,  0.8579, -0.6199,  1.8903,  1.9736,\n",
       "         -0.7834,  0.5189],\n",
       "        [ 0.6950,  1.5675, -1.1910, -0.8245, -0.7150,  1.8651,  0.1190,  1.2726,\n",
       "         -0.7284,  0.2650],\n",
       "        [-1.2191,  1.1412, -0.1764, -1.5431,  1.2509,  0.4777,  1.1769, -0.8420,\n",
       "         -1.3493,  1.2023],\n",
       "        [-1.3837,  0.0926,  0.1298, -1.7873, -0.8093,  1.0142, -1.1158, -0.3078,\n",
       "         -1.5582,  0.1840],\n",
       "        [-0.9808, -0.8359, -2.1744, -0.1525, -1.8729, -0.3436, -2.0867, -0.6636,\n",
       "         -1.8016,  0.3649],\n",
       "        [-0.5522,  0.8321,  0.0426, -2.1629, -0.7758, -0.3569, -2.3632, -0.0667,\n",
       "          1.0570,  1.1505],\n",
       "        [-0.6173, -0.1303, -0.1655, -2.2897, -0.8227,  0.9321, -1.5627, -0.6058,\n",
       "          0.5785,  0.9602],\n",
       "        [-0.2587, -0.1191, -1.8613, -1.7119,  0.5209,  0.5368,  1.6725,  0.1635,\n",
       "          1.2078,  2.3850],\n",
       "        [ 0.5581, -0.5054,  0.5528, -0.7362,  0.5143,  1.4247,  0.2490, -0.4146,\n",
       "          0.1140, -0.5713],\n",
       "        [ 0.6427,  0.5032, -1.5245,  1.4748,  0.3760,  1.0199,  0.6145,  0.8338,\n",
       "         -1.9572, -0.5050],\n",
       "        [-2.1259,  1.0424,  1.0395,  0.2914,  2.7161, -0.3545,  0.7998,  0.5294,\n",
       "         -0.1698, -0.3242],\n",
       "        [ 1.8333,  0.8762,  0.9340,  0.3668, -0.3091, -0.2846, -1.0376, -0.0396,\n",
       "          1.8955,  0.0374],\n",
       "        [ 1.3721, -0.5954, -1.4523,  0.8113, -0.4090, -0.0544,  0.6404,  0.9517,\n",
       "          0.7192, -1.3912],\n",
       "        [-0.1710,  0.5644,  0.1430,  1.9026, -0.2544, -0.8893,  0.2611, -1.1616,\n",
       "         -0.4626, -0.6112],\n",
       "        [ 1.2351,  1.5725,  0.9692,  1.0689, -1.3523,  0.7382,  0.6621, -0.8387,\n",
       "          0.6776, -1.4938],\n",
       "        [-0.0574,  0.9889, -0.0386, -1.2647, -0.3836, -0.7176,  0.4061, -0.1506,\n",
       "          1.1616,  0.1202],\n",
       "        [ 1.3182, -1.3439, -0.9572,  0.2111, -0.7818, -0.3112, -1.1235,  1.1549,\n",
       "         -1.6244, -0.5313],\n",
       "        [-1.1546, -0.1688, -0.3450,  1.3614, -0.6037,  0.5110,  0.5452,  2.0893,\n",
       "         -0.3398,  0.0669],\n",
       "        [ 0.6753,  0.7847, -1.5462, -0.0921,  1.4752, -0.2786,  0.1023,  0.8999,\n",
       "         -0.4683, -0.4038],\n",
       "        [-1.3221,  0.2247, -0.0891, -0.3435, -0.0662, -0.4433,  0.7394, -1.0303,\n",
       "         -0.1869, -0.7574],\n",
       "        [-0.9241,  0.0040, -0.2057, -0.4197, -0.0802,  0.2025, -0.4790,  1.2774,\n",
       "         -0.7170,  0.3918]], requires_grad=True)"
      ]
     },
     "execution_count": 8,
     "metadata": {},
     "output_type": "execute_result"
    }
   ],
   "source": [
    "C"
   ]
  },
  {
   "cell_type": "code",
   "execution_count": null,
   "metadata": {},
   "outputs": [],
   "source": []
  }
 ],
 "metadata": {
  "kernelspec": {
   "display_name": "Python 3",
   "language": "python",
   "name": "python3"
  },
  "language_info": {
   "codemirror_mode": {
    "name": "ipython",
    "version": 3
   },
   "file_extension": ".py",
   "mimetype": "text/x-python",
   "name": "python",
   "nbconvert_exporter": "python",
   "pygments_lexer": "ipython3",
   "version": "3.10.5"
  },
  "orig_nbformat": 4,
  "vscode": {
   "interpreter": {
    "hash": "f8616a3e2b8148b9c6607ab9a56f475d4fd35cc22643bd7652a96017134ab550"
   }
  }
 },
 "nbformat": 4,
 "nbformat_minor": 2
}
