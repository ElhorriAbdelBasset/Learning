{
 "cells": [
  {
   "cell_type": "code",
   "execution_count": 2,
   "metadata": {},
   "outputs": [],
   "source": [
    "import torch"
   ]
  },
  {
   "cell_type": "code",
   "execution_count": 3,
   "metadata": {},
   "outputs": [],
   "source": [
    "X = torch.randn((10,3)) \n",
    "Y = torch.Tensor([x.sum()>.5 for x in X]).reshape(-1,1)"
   ]
  },
  {
   "cell_type": "code",
   "execution_count": 4,
   "metadata": {},
   "outputs": [
    {
     "data": {
      "text/plain": [
       "(tensor([[-1.5393,  0.3881, -0.6518],\n",
       "         [-0.4476,  1.6374, -0.3800],\n",
       "         [-0.5326, -0.5929,  0.0245],\n",
       "         [ 0.8944,  0.6916, -0.1333],\n",
       "         [-1.2887,  0.1412,  0.1543],\n",
       "         [ 0.4261,  1.4891,  0.5128],\n",
       "         [ 0.8890, -1.1942,  0.1213],\n",
       "         [ 0.4749,  2.3916,  0.3019],\n",
       "         [ 0.6243, -0.1385, -0.7694],\n",
       "         [ 0.3668,  0.5391, -1.1731]]),\n",
       " tensor([[0.],\n",
       "         [1.],\n",
       "         [0.],\n",
       "         [1.],\n",
       "         [0.],\n",
       "         [1.],\n",
       "         [0.],\n",
       "         [1.],\n",
       "         [0.],\n",
       "         [0.]]))"
      ]
     },
     "execution_count": 4,
     "metadata": {},
     "output_type": "execute_result"
    }
   ],
   "source": [
    "X, Y"
   ]
  },
  {
   "cell_type": "code",
   "execution_count": 5,
   "metadata": {},
   "outputs": [],
   "source": [
    "W1 = torch.randn(size=(3,5))\n",
    "b1 = torch.randn(size=(1,))\n",
    "W2 = torch.randn(size=(5,5))\n",
    "b2 = torch.randn(size=(1,))\n",
    "W3 = torch.randn(size=(5,1))\n",
    "b3 = torch.randn(size=(1,))"
   ]
  },
  {
   "cell_type": "code",
   "execution_count": 6,
   "metadata": {},
   "outputs": [
    {
     "data": {
      "text/plain": [
       "(tensor([[-0.2956, -0.9351, -0.1666,  1.5829,  0.2097],\n",
       "         [ 0.6204, -0.1358, -0.7459, -2.0544, -0.3974],\n",
       "         [-0.1034, -1.2711, -0.5991, -0.1179, -0.2275]]),\n",
       " tensor([-1.5624]))"
      ]
     },
     "execution_count": 6,
     "metadata": {},
     "output_type": "execute_result"
    }
   ],
   "source": [
    "W1, b1"
   ]
  },
  {
   "cell_type": "code",
   "execution_count": 7,
   "metadata": {},
   "outputs": [
    {
     "data": {
      "text/plain": [
       "(tensor([[ 1.6657, -0.3510,  0.0906,  0.3588,  0.3337],\n",
       "         [-0.6926, -1.6872,  0.1447,  1.0868,  0.5247],\n",
       "         [ 0.4417,  0.0696,  0.0018, -0.0593, -0.1147],\n",
       "         [ 0.9833, -0.4152, -0.9829, -0.9597,  0.6316],\n",
       "         [-0.6366,  0.0140,  0.4750, -1.6092,  1.2523]]),\n",
       " tensor([-1.4533]))"
      ]
     },
     "execution_count": 7,
     "metadata": {},
     "output_type": "execute_result"
    }
   ],
   "source": [
    "W2, b2"
   ]
  },
  {
   "cell_type": "code",
   "execution_count": 8,
   "metadata": {},
   "outputs": [
    {
     "data": {
      "text/plain": [
       "(tensor([[-1.3029],\n",
       "         [ 0.7900],\n",
       "         [-0.6873],\n",
       "         [ 0.4082],\n",
       "         [ 0.2608]]),\n",
       " tensor([-0.1504]))"
      ]
     },
     "execution_count": 8,
     "metadata": {},
     "output_type": "execute_result"
    }
   ],
   "source": [
    "W3, b3"
   ]
  },
  {
   "cell_type": "code",
   "execution_count": 9,
   "metadata": {},
   "outputs": [],
   "source": [
    "z1 = X@W1+b1\n",
    "h1 = torch.tanh(z1)\n",
    "z2 = h1@W2+b2\n",
    "h2 = torch.tanh(z2)\n",
    "z3 = h2@W3+b3\n",
    "probs = torch.sigmoid(z3)\n",
    "Y_hat = torch.Tensor([1 if a > .5 else 0 for a in probs],).unsqueeze(1)"
   ]
  },
  {
   "cell_type": "code",
   "execution_count": 10,
   "metadata": {},
   "outputs": [
    {
     "data": {
      "text/plain": [
       "(tensor(0.4000), tensor(0.2014))"
      ]
     },
     "execution_count": 10,
     "metadata": {},
     "output_type": "execute_result"
    }
   ],
   "source": [
    "acc = (Y_hat == Y).sum() / len(Y)\n",
    "loss = -probs.log().mean()\n",
    "acc, loss"
   ]
  },
  {
   "cell_type": "code",
   "execution_count": 17,
   "metadata": {},
   "outputs": [],
   "source": [
    "dloss_dprobs = (1/len(Y)) * (1/probs)\n",
    "dprobs_z3 =  probs * (1-probs)\n",
    "dz3_h2 = W3\n",
    "dz3_W3 = h2\n",
    "dh2_z2 = h2 * (1-h2)\n",
    "dz2_dh1 = W2\n",
    "dz2_dW2 = h1\n",
    "dh1_z1 = h1 * (1-h1)\n",
    "dz1_dW1 = X"
   ]
  },
  {
   "cell_type": "code",
   "execution_count": 69,
   "metadata": {},
   "outputs": [],
   "source": [
    "dloss_dW3 = (dz3_W3 * dloss_dprobs * dprobs_z3).mean(0).unsqueeze(dim=1)\n",
    "dloss_dW2 = (dloss_dprobs * dprobs_z3).mean(0) * dz3_h2 * (dh2_z2 * dz2_dW2).mean(0)\n",
    "dloss_dW1 = (dloss_dprobs * dprobs_z3).mean(0) * dz3_h2 * dh2_z2.mean(0) * dz2_dh1 * dh1_z1.mean(0)\n",
    "dloss_dW1 = X.sum(0).unsqueeze(dim=1).broadcast_to(size=(3,5)) @ dloss_dW1"
   ]
  },
  {
   "cell_type": "code",
   "execution_count": 70,
   "metadata": {},
   "outputs": [
    {
     "data": {
      "text/plain": [
       "(tensor([[-1.3029],\n",
       "         [ 0.7900],\n",
       "         [-0.6873],\n",
       "         [ 0.4082],\n",
       "         [ 0.2608]]),\n",
       " tensor([[-0.0176],\n",
       "         [ 0.0017],\n",
       "         [-0.0152],\n",
       "         [-0.0019],\n",
       "         [-0.0180]]))"
      ]
     },
     "execution_count": 70,
     "metadata": {},
     "output_type": "execute_result"
    }
   ],
   "source": [
    "W3, dloss_dW3"
   ]
  },
  {
   "cell_type": "code",
   "execution_count": 71,
   "metadata": {},
   "outputs": [
    {
     "data": {
      "text/plain": [
       "(tensor([[ 1.6657, -0.3510,  0.0906,  0.3588,  0.3337],\n",
       "         [-0.6926, -1.6872,  0.1447,  1.0868,  0.5247],\n",
       "         [ 0.4417,  0.0696,  0.0018, -0.0593, -0.1147],\n",
       "         [ 0.9833, -0.4152, -0.9829, -0.9597,  0.6316],\n",
       "         [-0.6366,  0.0140,  0.4750, -1.6092,  1.2523]]),\n",
       " tensor([[-0.0334,  0.0054, -0.0319,  0.0027, -0.0429],\n",
       "         [ 0.0202, -0.0032,  0.0193, -0.0016,  0.0260],\n",
       "         [-0.0176,  0.0028, -0.0168,  0.0014, -0.0226],\n",
       "         [ 0.0105, -0.0017,  0.0100, -0.0008,  0.0134],\n",
       "         [ 0.0067, -0.0011,  0.0064, -0.0005,  0.0086]]))"
      ]
     },
     "execution_count": 71,
     "metadata": {},
     "output_type": "execute_result"
    }
   ],
   "source": [
    "W2, dloss_dW2"
   ]
  },
  {
   "cell_type": "code",
   "execution_count": 73,
   "metadata": {},
   "outputs": [
    {
     "data": {
      "text/plain": [
       "(tensor([[-0.2956, -0.9351, -0.1666,  1.5829,  0.2097],\n",
       "         [ 0.6204, -0.1358, -0.7459, -2.0544, -0.3974],\n",
       "         [-0.1034, -1.2711, -0.5991, -0.1179, -0.2275]]),\n",
       " tensor([[ 1.7212e-02,  1.8017e-04,  1.7539e-03,  5.6591e-04, -5.3913e-03],\n",
       "         [-6.9413e-01, -7.2658e-03, -7.0734e-02, -2.2822e-02,  2.1742e-01],\n",
       "         [ 2.5846e-01,  2.7054e-03,  2.6337e-02,  8.4978e-03, -8.0957e-02]]))"
      ]
     },
     "execution_count": 73,
     "metadata": {},
     "output_type": "execute_result"
    }
   ],
   "source": [
    "W1, dloss_dW1"
   ]
  },
  {
   "cell_type": "code",
   "execution_count": null,
   "metadata": {},
   "outputs": [],
   "source": []
  }
 ],
 "metadata": {
  "kernelspec": {
   "display_name": "Python 3",
   "language": "python",
   "name": "python3"
  },
  "language_info": {
   "codemirror_mode": {
    "name": "ipython",
    "version": 3
   },
   "file_extension": ".py",
   "mimetype": "text/x-python",
   "name": "python",
   "nbconvert_exporter": "python",
   "pygments_lexer": "ipython3",
   "version": "3.10.5"
  },
  "orig_nbformat": 4,
  "vscode": {
   "interpreter": {
    "hash": "f8616a3e2b8148b9c6607ab9a56f475d4fd35cc22643bd7652a96017134ab550"
   }
  }
 },
 "nbformat": 4,
 "nbformat_minor": 2
}
